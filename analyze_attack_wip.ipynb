{
 "cells": [
  {
   "cell_type": "code",
   "execution_count": null,
   "id": "1a1b3ca8-f36f-4281-ac92-6934e4c3958f",
   "metadata": {},
   "outputs": [],
   "source": [
    "import pandas as pd\n",
    "import json\n",
    "import glob\n",
    "import ast\n",
    "from pandas.io.json import json_normalize\n",
    "\n",
    "pd.set_option('display.max_colwidth', None)\n",
    "pd.options.display.html.use_mathjax = False\n"
   ]
  },
  {
   "cell_type": "code",
   "execution_count": null,
   "id": "ed5b4c33-2455-4d8a-a16e-7f4e89723584",
   "metadata": {},
   "outputs": [],
   "source": [
    "def data_reader(path_regex):\n",
    "    datas = {}\n",
    "    for filename in glob.iglob(path_regex,recursive = True):\n",
    "        with open(filename, 'r') as f:\n",
    "            try:\n",
    "                datas[filename] = json.load(f)\n",
    "            except:\n",
    "                print(filename)\n",
    "                print('oops')\n",
    "    return datas\n",
    "    \n",
    "datas = data_reader('./**/*.json')\n",
    "processes = []\n",
    "for k, v in datas.items():\n",
    "    if type(v) is not list:\n",
    "        for k2,v2 in v.items():\n",
    "            if k2 == \"_source\":\n",
    "                v2['process']['eventname'] = k.split('/')[-1]\n",
    "                processes.append(v2['process'])\n",
    "    elif type(v) is list:\n",
    "        for x in v:\n",
    "            try:\n",
    "                x['_source']['process']['eventname'] = k.split('/')[-1]\n",
    "                processes.append(x['_source']['process'])\n",
    "            except:\n",
    "                print(k)\n",
    "                print('oops')\n",
    "    else:\n",
    "        print(k)"
   ]
  },
  {
   "cell_type": "code",
   "execution_count": null,
   "id": "94dc7640-2adc-42ac-a031-5ba0570efb15",
   "metadata": {},
   "outputs": [],
   "source": [
    "## This does not handle all possible cases. I tried to clean up the events, but the json isn't nested consistently across the files. \n",
    "## This currently misreads files such as macOS-ATTACK-DATASET/Persistence/persistence_emond_rules_filemod.json where there are multiple events.\n",
    "\n",
    "argument = input()\n",
    "event_names = []\n",
    "command_lines = []\n",
    "for proc in processes:\n",
    "    if proc.get('args', None) != None and argument in proc['args']:\n",
    "        event_names.append(proc['eventname'])\n",
    "        command_lines.append(proc['command_line'])\n",
    "    else:\n",
    "        pass\n",
    "\n",
    "data = {'event_names': event_names, 'command_lines': command_lines}\n",
    "df = pd.DataFrame(data=data)\n",
    "\n",
    "df"
   ]
  }
 ],
 "metadata": {
  "kernelspec": {
   "display_name": "Python 3 (ipykernel)",
   "language": "python",
   "name": "python3"
  },
  "language_info": {
   "codemirror_mode": {
    "name": "ipython",
    "version": 3
   },
   "file_extension": ".py",
   "mimetype": "text/x-python",
   "name": "python",
   "nbconvert_exporter": "python",
   "pygments_lexer": "ipython3",
   "version": "3.8.10"
  }
 },
 "nbformat": 4,
 "nbformat_minor": 5
}
